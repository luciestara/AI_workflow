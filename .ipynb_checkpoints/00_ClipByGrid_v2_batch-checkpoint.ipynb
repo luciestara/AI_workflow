{
 "cells": [
  {
   "cell_type": "markdown",
   "id": "543211d4",
   "metadata": {},
   "source": [
    "clipping dedicated for processing of final product (entire AOI)\n",
    "\n",
    "clip input data by given grid (for faster processing)\n",
    "\n",
    "workflow logic:\n",
    "input data - locations\n",
    "clip input data (imagery, labels) by defined grid (e.g. 112 m cell = iamge chip size)\n",
    "and save it into defined folder"
   ]
  },
  {
   "cell_type": "code",
   "execution_count": 1,
   "id": "f265a70d",
   "metadata": {},
   "outputs": [
    {
     "name": "stdout",
     "output_type": "stream",
     "text": [
      "Requirement already satisfied: tondortools in /home/lucie/anaconda3/envs/gda_ugs/lib/python3.10/site-packages (1.0.17)\r\n"
     ]
    }
   ],
   "source": [
    "!pip install tondortools\n",
    "\n",
    "import tondortools.geo #if you get error, check the kernel you are running this in"
   ]
  },
  {
   "cell_type": "code",
   "execution_count": 1,
   "id": "2e46349f",
   "metadata": {},
   "outputs": [],
   "source": [
    "import os\n",
    "import tondortools\n",
    "\n",
    "from osgeo import ogr, gdal\n",
    "from tondortools.geo import BoundingBox\n",
    "from pathlib import Path\n",
    "\n",
    "import subprocess\n",
    "\n",
    "import shutil"
   ]
  },
  {
   "cell_type": "code",
   "execution_count": 25,
   "id": "d20d5cfb",
   "metadata": {},
   "outputs": [],
   "source": [
    "EPSG = '32636' #Amman\n",
    "#EPSG = '32733' #Kinshasa\n",
    "\n",
    "#grid_file = Path('/home/lucie/GDA_UGS/ESA_GDA_UGS/Kinshasa/01_processing_full/01_grids/grid_full_overlap112m_select_testing.shp')\n",
    "grid_file = Path('/home/lucie/GDA_UGS/ESA_GDA_UGS/GDA_urban/Phase2/model_predict/grid_3808m_select.shp')\n",
    "#work_folder = Path('/home/lucie/GDA_UGS/ESA_GDA_UGS/Kinshasa/02_model_input')\n",
    "#work_folder = Path('/home/lucie/GDA_UGS/ESA_GDA_UGS/Kinshasa/02_model_input/data_predict_outsideAOI_overlap25_v2')\n",
    "work_folder = Path('/home/lucie/GDA_UGS/ESA_GDA_UGS/Kinshasa/02_model_input')\n",
    "\n",
    "#if img_file = labels > apply variant='lbl' in clip_by_grid function\n",
    "img_file = Path('/home/lucie/GDA_UGS/ESA_GDA_UGS/Kinshasa/01_processing_full/final_model_data/img_GRNIR.tif')\n",
    "#lbl_file = Path('/home/lucie/GDA_UGS/ESA_GDA_UGS/Kinshasa/01_processing_full/final_model_data/labels_raster_NBS_v1.tif')\n",
    "\n",
    "#class distribution\n",
    "#tile = '22' #2-digit format (e.g. 01)\n",
    "zfill_value = 4 #length of the numbering convention (e.g.0001)\n",
    "zfill_value_folder = 3\n",
    "\n",
    "dst_folder_img = 'data_predict_outsideAOI_overlap25_v2' #OR: imagery\n",
    "#dst_folder_lbl = 'labels_NBSnom_448px'"
   ]
  },
  {
   "cell_type": "code",
   "execution_count": 26,
   "id": "dcb1b7d6",
   "metadata": {},
   "outputs": [],
   "source": [
    "def clip_by_grid_to_processing_tiles(grid_file,img_file,dst_parent_folder,EPSG,zfill_value,zfill_value_folder,variant='img'):\n",
    "    \n",
    "    \"\"\"\n",
    "    variant = 'img' >>> clipping satelite imagery\n",
    "    variant = 'lbl' >>> clipping labels (reference data)\n",
    "    \"\"\"\n",
    "    \n",
    "    processing_tiles_ds = ogr.Open(str(grid_file))\n",
    "    processing_tiles_lyr = processing_tiles_ds.GetLayer()\n",
    "    processing_tiles_srs = processing_tiles_lyr.GetSpatialRef()\n",
    "    processing_tiles_epsg = processing_tiles_srs.GetAttrValue('AUTHORITY', 1)\n",
    "\n",
    "\n",
    "    for feature in processing_tiles_lyr:\n",
    "        #print(feature['id'])\n",
    "        feature_wkt = feature.geometry().ExportToWkt()\n",
    "        geom = ogr.CreateGeometryFromWkt(feature_wkt)\n",
    "        bbox = BoundingBox.from_geom(geom, EPSG)\n",
    "\n",
    "        dst_folder = dst_parent_folder.joinpath(f'img_tile_{str(int(feature[\"id\"])).zfill(zfill_value_folder)}')\n",
    "        #dst_folder = dst_parent_folder\n",
    "        print(dst_folder)\n",
    "        \n",
    "        if not dst_folder.exists():\n",
    "            os.makedirs(dst_folder)\n",
    "            \n",
    "        if variant=='img':\n",
    "            dst_file = dst_folder.joinpath(f'{str(int(feature[\"id\"])).zfill(zfill_value)}_imagery.tif')\n",
    "            print(dst_file)\n",
    "      \n",
    "        else:\n",
    "            #dst_file = dst_folder.joinpath(f'tile{str(int(feature[\"id\"]))}_labels.tif')\n",
    "            dst_file = dst_folder.joinpath(f'{str(int(feature[\"id\"])).zfill(zfill_value)}_lbl.tif')\n",
    "\n",
    "        cmd = [\"gdalwarp\",\n",
    "                       \"-t_srs\", \"EPSG:{}\".format(EPSG),\n",
    "                       \"-te\", str(bbox.xmin), str(bbox.ymin), str(bbox.xmax),\n",
    "                       str(bbox.ymax),\n",
    "                       \"-r\", 'near',\n",
    "                       \"-co\", \"COMPRESS=DEFLATE\",\n",
    "                       str(img_file),\n",
    "                       str(dst_file)]\n",
    "\n",
    "        subprocess.run(cmd)\n",
    "        \n",
    "    return dst_file\n",
    "    \n",
    "\n"
   ]
  },
  {
   "cell_type": "code",
   "execution_count": 27,
   "id": "8be138b2",
   "metadata": {},
   "outputs": [
    {
     "name": "stdout",
     "output_type": "stream",
     "text": [
      "/home/lucie/GDA_UGS/ESA_GDA_UGS/Kinshasa/02_model_input/data_predict_outsideAOI_overlap25_v2/img_tile_045\n",
      "/home/lucie/GDA_UGS/ESA_GDA_UGS/Kinshasa/02_model_input/data_predict_outsideAOI_overlap25_v2/img_tile_045/0045_imagery.tif\n",
      "Creating output file that is 4480P x 4480L.\n",
      "Processing /home/lucie/GDA_UGS/ESA_GDA_UGS/Kinshasa/01_processing_full/final_model_data/img_GRNIR.tif [1/1] : 0...10...20...30...40...50...60...70...80...90...100 - done.\n",
      "/home/lucie/GDA_UGS/ESA_GDA_UGS/Kinshasa/02_model_input/data_predict_outsideAOI_overlap25_v2/img_tile_058\n",
      "/home/lucie/GDA_UGS/ESA_GDA_UGS/Kinshasa/02_model_input/data_predict_outsideAOI_overlap25_v2/img_tile_058/0058_imagery.tif\n",
      "Creating output file that is 4480P x 4480L.\n",
      "Processing /home/lucie/GDA_UGS/ESA_GDA_UGS/Kinshasa/01_processing_full/final_model_data/img_GRNIR.tif [1/1] : 0...10...20...30...40...50...60...70...80...90...100 - done.\n",
      "/home/lucie/GDA_UGS/ESA_GDA_UGS/Kinshasa/02_model_input/data_predict_outsideAOI_overlap25_v2/img_tile_121\n",
      "/home/lucie/GDA_UGS/ESA_GDA_UGS/Kinshasa/02_model_input/data_predict_outsideAOI_overlap25_v2/img_tile_121/0121_imagery.tif\n",
      "Creating output file that is 4480P x 4480L.\n",
      "Processing /home/lucie/GDA_UGS/ESA_GDA_UGS/Kinshasa/01_processing_full/final_model_data/img_GRNIR.tif [1/1] : 0...10...20...30...40...50...60...70...80...90...100 - done.\n",
      "/home/lucie/GDA_UGS/ESA_GDA_UGS/Kinshasa/02_model_input/data_predict_outsideAOI_overlap25_v2/img_tile_134\n",
      "/home/lucie/GDA_UGS/ESA_GDA_UGS/Kinshasa/02_model_input/data_predict_outsideAOI_overlap25_v2/img_tile_134/0134_imagery.tif\n",
      "Creating output file that is 4480P x 4480L.\n",
      "Processing /home/lucie/GDA_UGS/ESA_GDA_UGS/Kinshasa/01_processing_full/final_model_data/img_GRNIR.tif [1/1] : 0...10...20...30...40...50...60...70...80...90...100 - done.\n",
      "/home/lucie/GDA_UGS/ESA_GDA_UGS/Kinshasa/02_model_input/data_predict_outsideAOI_overlap25_v2/img_tile_177\n",
      "/home/lucie/GDA_UGS/ESA_GDA_UGS/Kinshasa/02_model_input/data_predict_outsideAOI_overlap25_v2/img_tile_177/0177_imagery.tif\n",
      "Creating output file that is 4480P x 4480L.\n",
      "Processing /home/lucie/GDA_UGS/ESA_GDA_UGS/Kinshasa/01_processing_full/final_model_data/img_GRNIR.tif [1/1] : 0...10...20...30...40...50...60...70...80...90...100 - done.\n",
      "/home/lucie/GDA_UGS/ESA_GDA_UGS/Kinshasa/02_model_input/data_predict_outsideAOI_overlap25_v2/img_tile_190\n",
      "/home/lucie/GDA_UGS/ESA_GDA_UGS/Kinshasa/02_model_input/data_predict_outsideAOI_overlap25_v2/img_tile_190/0190_imagery.tif\n",
      "Creating output file that is 4480P x 4480L.\n",
      "Processing /home/lucie/GDA_UGS/ESA_GDA_UGS/Kinshasa/01_processing_full/final_model_data/img_GRNIR.tif [1/1] : 0...10...20...30...40...50...60...70...80...90...100 - done.\n"
     ]
    }
   ],
   "source": [
    "if not work_folder.exists():\n",
    "    os.makedirs(work_folder)\n",
    "\n",
    "os.chdir(work_folder)\n",
    "img_dist_file = clip_by_grid_to_processing_tiles(grid_file,img_file,work_folder,EPSG,zfill_value,zfill_value_folder,variant='img')\n"
   ]
  },
  {
   "cell_type": "code",
   "execution_count": 18,
   "id": "6a42b74e",
   "metadata": {},
   "outputs": [
    {
     "name": "stdout",
     "output_type": "stream",
     "text": [
      "/home/lucie/GDA_UGS/ESA_GDA_UGS/Kinshasa/testing_delete/data_predict_outsideAOI_overlap25_v2/part_045\n",
      "/home/lucie/GDA_UGS/ESA_GDA_UGS/Kinshasa/testing_delete/data_predict_outsideAOI_overlap25_v2/part_058\n",
      "/home/lucie/GDA_UGS/ESA_GDA_UGS/Kinshasa/testing_delete/data_predict_outsideAOI_overlap25_v2/part_121\n",
      "/home/lucie/GDA_UGS/ESA_GDA_UGS/Kinshasa/testing_delete/data_predict_outsideAOI_overlap25_v2/part_134\n",
      "/home/lucie/GDA_UGS/ESA_GDA_UGS/Kinshasa/testing_delete/data_predict_outsideAOI_overlap25_v2/part_177\n",
      "/home/lucie/GDA_UGS/ESA_GDA_UGS/Kinshasa/testing_delete/data_predict_outsideAOI_overlap25_v2/part_190\n"
     ]
    }
   ],
   "source": [
    "img_dist_file = clip_by_grid_to_processing_tiles(grid_file,img_file,work_folder,EPSG,zfill_value,zfill_value_folder,variant='img')\n",
    "#lbl_dist_file = clip_by_grid(grid_file,lbl_file,work_folder,EPSG,zfill_value,variant='lbl')"
   ]
  },
  {
   "cell_type": "code",
   "execution_count": 7,
   "id": "e5198fc5",
   "metadata": {},
   "outputs": [
    {
     "name": "stdout",
     "output_type": "stream",
     "text": [
      "/home/lucie/GDA_UGS/ESA_GDA_UGS/Kinshasa/02_model_input/0155_img.tif\n"
     ]
    }
   ],
   "source": [
    "print(img_dist_file)"
   ]
  },
  {
   "cell_type": "code",
   "execution_count": 5,
   "id": "0cce8f7d",
   "metadata": {},
   "outputs": [],
   "source": [
    "# create img & lbl directories\n",
    "\n",
    "def organize_files(work_dir,img_dir):\n",
    "\n",
    "    dst_folder = work_dir.joinpath(img_dir)\n",
    "    print(dst_folder)\n",
    "    #dst_lbl = work_dir.joinpath(lbl_dir)\n",
    "\n",
    "    os.mkdir(dst_folder)\n",
    "    #os.mkdir(dst_lbl)\n",
    "\n",
    "    # split img chips into files by \"lbl\" and \"img\"\n",
    "    import shutil\n",
    "\n",
    "    for file_item in os.listdir(work_dir):\n",
    "        if \"_img\" in file_item:\n",
    "            src_img=work_dir.joinpath(file_item)\n",
    "            shutil.move(src_img, dst_folder)\n",
    "        elif \"_lbl\" in file_item:\n",
    "            src_lbl=work_dir.joinpath(file_item)\n",
    "            shutil.move(src_lbl, dst_folder)\n",
    "        else:\n",
    "            continue"
   ]
  },
  {
   "cell_type": "code",
   "execution_count": 6,
   "id": "4a744660",
   "metadata": {},
   "outputs": [],
   "source": [
    "organize_files(work_folder,dst_folder_img)\n",
    "organize_files(work_folder,dst_folder_lbl)"
   ]
  },
  {
   "cell_type": "code",
   "execution_count": null,
   "id": "bda51ae6",
   "metadata": {},
   "outputs": [],
   "source": []
  },
  {
   "cell_type": "code",
   "execution_count": 5,
   "id": "48c752c8",
   "metadata": {},
   "outputs": [],
   "source": [
    "def organize_files_v2(dst_folder,work_dir,code_word):\n",
    "    \n",
    "    \"\"\"\n",
    "    usage: for specific folder structure\n",
    "    * workflow: cut raster into tiles, which will be further split into image chips *\n",
    "    \n",
    "    code_word = '_imagery' >>> organizing images into imagery folder\n",
    "    code_word = '_labels' >>> organizing images into labels folder\n",
    "    \"\"\"\n",
    "    dst_path = work_dir.joinpath(dst_folder)\n",
    "\n",
    "    def create_dir(path):\n",
    "        if os.path.exists(path) == False:\n",
    "            os.makedirs(path)\n",
    "        \n",
    "    create_dir(dst_path)\n",
    "\n",
    "    for file_item in os.listdir(work_dir):\n",
    "        if code_word in file_item:\n",
    "            src_img=work_dir.joinpath(file_item)\n",
    "            shutil.move(src_img, dst_path)\n",
    "        else:\n",
    "            continue"
   ]
  },
  {
   "cell_type": "code",
   "execution_count": 6,
   "id": "d0c2cec8",
   "metadata": {},
   "outputs": [],
   "source": [
    "#organize_files(dst_folder_img,work_folder,code_word='_img')\n",
    "organize_files_v2(dst_folder_lbl,work_folder,code_word='_labels')"
   ]
  },
  {
   "cell_type": "markdown",
   "id": "f5a855da",
   "metadata": {},
   "source": [
    "#### class distribution (lbl related)"
   ]
  },
  {
   "cell_type": "code",
   "execution_count": null,
   "id": "0c39bcac",
   "metadata": {},
   "outputs": [
    {
     "name": "stdout",
     "output_type": "stream",
     "text": [
      "Shape of training data  is:  (1, 51077, 94160)\n"
     ]
    }
   ],
   "source": [
    "import rasterio as rs \n",
    "import csv\n",
    "import numpy as np\n",
    "\n",
    "#img = r\"/home/lucie/GDA_UGS/ESA_GDA_UGS/Freetown/input_data_Phase3/8/lbl_tile8.tif\"\n",
    "img = lbl_file\n",
    "base_dir = Path('/home/lucie/GDA_UGS/ESA_GDA_UGS/Kinshasa')\n",
    "\n",
    "image= rs.open(img)\n",
    "imgarr=image.read()\n",
    "print(\"Shape of training data  is: \",imgarr.shape) \n",
    "invarr= image.read(1)\n",
    "\n",
    "i,j = np.unique(invarr, return_counts= True)\n",
    "#print(\"**** number of sample pixels for each class ****\")\n",
    "#plt.bar(i, j,alpha=0.7, tick_label=i)\n",
    "\n",
    "\"\"\"\n",
    "#src: https://www.pythontutorial.net/python-basics/python-write-csv-file/\n",
    "csv_path = base_dir.joinpath('class_distribution.csv')\n",
    "\n",
    "header=['tile','other','low_veg_active','low_veg_inactive','high_veg_shrub','bare_soil','high_veg_trees','water','buildings','roads']\n",
    "  \n",
    "#data = [version,kernel_size,n_epochs_real,batch_size,weights,num_classes,early_stopping.monitor,early_stopping.patience,shape,current_date,train_input_size_orig,num_training_samples,str(config.__dict__),note]\n",
    "data = [tile,*j] #asterisk >> array without brackets (src: https://blog.finxter.com/how-to-print-a-numpy-array-without-brackets-in-python/)\n",
    "print(data)\n",
    "\n",
    "if os.path.exists(csv_path):\n",
    "    with open(csv_path, 'a') as f:\n",
    "        writer = csv.writer(f)\n",
    "        writer.writerow(data)\n",
    "else:\n",
    "    with open(csv_path, 'w', encoding='UTF8') as f:\n",
    "        writer = csv.writer(f)\n",
    "\n",
    "        # write the header\n",
    "        writer.writerow(header)\n",
    "\n",
    "        # write the data\n",
    "        writer.writerow(data)\n",
    "\"\"\""
   ]
  },
  {
   "cell_type": "code",
   "execution_count": null,
   "id": "a76cfc85",
   "metadata": {},
   "outputs": [],
   "source": []
  },
  {
   "cell_type": "code",
   "execution_count": null,
   "id": "2c5a6ba5",
   "metadata": {},
   "outputs": [],
   "source": []
  }
 ],
 "metadata": {
  "kernelspec": {
   "display_name": "gda_ugs",
   "language": "python",
   "name": "gda_ugs"
  },
  "language_info": {
   "codemirror_mode": {
    "name": "ipython",
    "version": 3
   },
   "file_extension": ".py",
   "mimetype": "text/x-python",
   "name": "python",
   "nbconvert_exporter": "python",
   "pygments_lexer": "ipython3",
   "version": "3.10.6"
  }
 },
 "nbformat": 4,
 "nbformat_minor": 5
}
