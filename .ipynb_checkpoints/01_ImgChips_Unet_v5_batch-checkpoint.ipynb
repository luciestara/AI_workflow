{
 "cells": [
  {
   "cell_type": "markdown",
   "metadata": {},
   "source": [
    "upgrade původní verze: číslování ve 4místném formátu\n",
    "\n",
    "EDIT1: os.chdir, imgchips, eventually stride, winsize\n",
    "\n",
    "EDIT2: pro budoucí zpracování: přizpůsobit .zfill(**x**) = řád počtu img chips (pravděpodobně bude vyšší než tisíce image chips = víc než .zfill(4))\n",
    "\n",
    "TODO: change naming convention (now: 0001_img, what i want: img_0001)"
   ]
  },
  {
   "cell_type": "code",
   "execution_count": 1,
   "metadata": {},
   "outputs": [],
   "source": [
    "import numpy as np\n",
    "import pandas as pd\n",
    "import os \n",
    "import matplotlib.pyplot as plt\n",
    "import rasterio as rs \n",
    "\n",
    "import shutil\n",
    "from pathlib import Path"
   ]
  },
  {
   "cell_type": "code",
   "execution_count": 19,
   "metadata": {},
   "outputs": [],
   "source": [
    "# Parameters \n",
    "#parent_folder = Path('/home/lucie/GDA_UGS/ESA_GDA_UGS/Kinshasa/02_model_input/data_predict_outsideAOI_overlap25_v2')\n",
    "parent_folder = Path('/home/lucie/GDA_UGS/ESA_GDA_UGS/GDA_urban/Phase2/model_predict')\n",
    "\n",
    "zfill_value = 4\n",
    "\n",
    "stride=336\n",
    "winsize=448"
   ]
  },
  {
   "cell_type": "code",
   "execution_count": 20,
   "metadata": {},
   "outputs": [],
   "source": [
    "# src: https://github.com/Hejarshahabi/GeoTagged_ImageChip\n",
    "\n",
    "def trainchips_single(img, zfill_value, index_start=0, stride=224, winsize=224, variant='img'):\n",
    "    \n",
    "    '''\n",
    "    (stride = winsize/2 >> get 50% overlap)\n",
    "    (depends on model input size, e.g. imagenet uses 224 or 256 pixels)\n",
    "    \n",
    "    variant - when creating image chips for labels, variant='lbl'\n",
    "    '''\n",
    "    \n",
    "    image= rs.open(img)\n",
    "    imgarr=image.read()\n",
    "    print(\"Shape of training data  is: \",imgarr.shape) \n",
    "    invarr= image.read(1)\n",
    "\n",
    "    index=index_start\n",
    "    \n",
    "    for i in np.arange(0,imgarr.shape[1],stride):\n",
    "        for j in np.arange(0,imgarr.shape[2],stride):\n",
    "            img=imgarr[:,i:i+winsize,j:j+winsize]\n",
    "            x,y = (j*image.transform[0]+image.transform[2]),(image.transform[5]+i*image.transform[4])\n",
    "            transform= [image.transform[0],0,x,0,image.transform[4],y]\n",
    "            index+=1\n",
    "            \n",
    "            if variant=='img':\n",
    "                with rs.open(str(index).zfill(zfill_value)+\"_img.tif\",\"w\",driver='GTiff', count=imgarr.shape[0], dtype=imgarr.dtype,\n",
    "                         width=winsize, height=winsize, transform=transform, crs=image.crs) as raschip:\n",
    "                         raschip.write(img)\n",
    "            elif variant=='lbl':\n",
    "                with rs.open(str(index).zfill(zfill_value)+\"_lbl.tif\",\"w\",driver='GTiff', count=imgarr.shape[0], dtype=imgarr.dtype,\n",
    "                         width=winsize, height=winsize, transform=transform, crs=image.crs) as raschip:\n",
    "                         raschip.write(img)\n",
    "                        \n",
    "    print(\"The number of image chips is: \", index-index_start)\n",
    "\n",
    "def organize_files(parent_folder,index,create_lbl_folder=False):\n",
    "    \n",
    "    if create_lbl_folder==False:\n",
    "        #dst_img=src_imgChips+\"/img_\"+index #create indexed folder, e.g. img_1\n",
    "        #dst_img=src_imgChips+\"/img\"\n",
    "        dst_img=parent_folder.joinpath('img')\n",
    "        \n",
    "        if os.path.exists(dst_img) == False:\n",
    "            os.mkdir(dst_img)\n",
    "        \n",
    "        return dst_img\n",
    "        \n",
    "    else:\n",
    "        dst_img=parent_folder.joinpath('img')\n",
    "        dst_lbl=parent_folder,joinpath('lbl')\n",
    "\n",
    "        os.mkdir(dst_img)\n",
    "        os.mkdir(dst_lbl)"
   ]
  },
  {
   "cell_type": "code",
   "execution_count": 21,
   "metadata": {},
   "outputs": [
    {
     "name": "stdout",
     "output_type": "stream",
     "text": [
      "/home/lucie/GDA_UGS/ESA_GDA_UGS/Kinshasa/02_model_input/data_predict_outsideAOI_overlap25_v2/img_tile_045\n",
      "/home/lucie/GDA_UGS/ESA_GDA_UGS/Kinshasa/02_model_input/data_predict_outsideAOI_overlap25_v2/img_tile_045/0045_imagery.tif\n",
      "Shape of training data  is:  (3, 4480, 4480)\n",
      "The number of image chips is:  196\n",
      "img_tile_045\n",
      "/home/lucie/GDA_UGS/ESA_GDA_UGS/Kinshasa/02_model_input/data_predict_outsideAOI_overlap25_v2/img_tile_058\n",
      "/home/lucie/GDA_UGS/ESA_GDA_UGS/Kinshasa/02_model_input/data_predict_outsideAOI_overlap25_v2/img_tile_058/0058_imagery.tif\n",
      "Shape of training data  is:  (3, 4480, 4480)\n",
      "The number of image chips is:  196\n",
      "img_tile_058\n",
      "/home/lucie/GDA_UGS/ESA_GDA_UGS/Kinshasa/02_model_input/data_predict_outsideAOI_overlap25_v2/img_tile_121\n",
      "/home/lucie/GDA_UGS/ESA_GDA_UGS/Kinshasa/02_model_input/data_predict_outsideAOI_overlap25_v2/img_tile_121/0121_imagery.tif\n",
      "Shape of training data  is:  (3, 4480, 4480)\n",
      "The number of image chips is:  196\n",
      "img_tile_121\n",
      "/home/lucie/GDA_UGS/ESA_GDA_UGS/Kinshasa/02_model_input/data_predict_outsideAOI_overlap25_v2/img_tile_134\n",
      "/home/lucie/GDA_UGS/ESA_GDA_UGS/Kinshasa/02_model_input/data_predict_outsideAOI_overlap25_v2/img_tile_134/0134_imagery.tif\n",
      "Shape of training data  is:  (3, 4480, 4480)\n",
      "The number of image chips is:  196\n",
      "img_tile_134\n",
      "/home/lucie/GDA_UGS/ESA_GDA_UGS/Kinshasa/02_model_input/data_predict_outsideAOI_overlap25_v2/img_tile_177\n",
      "/home/lucie/GDA_UGS/ESA_GDA_UGS/Kinshasa/02_model_input/data_predict_outsideAOI_overlap25_v2/img_tile_177/0177_imagery.tif\n",
      "Shape of training data  is:  (3, 4480, 4480)\n",
      "The number of image chips is:  196\n",
      "img_tile_177\n",
      "/home/lucie/GDA_UGS/ESA_GDA_UGS/Kinshasa/02_model_input/data_predict_outsideAOI_overlap25_v2/img_tile_190\n",
      "/home/lucie/GDA_UGS/ESA_GDA_UGS/Kinshasa/02_model_input/data_predict_outsideAOI_overlap25_v2/img_tile_190/0190_imagery.tif\n",
      "Shape of training data  is:  (3, 4480, 4480)\n",
      "The number of image chips is:  196\n",
      "img_tile_190\n"
     ]
    }
   ],
   "source": [
    "folder_names = os.listdir(parent_folder)\n",
    "#folder_names=['4']\n",
    "\n",
    "for folder_item in folder_names:\n",
    "    \n",
    "    current_folder = parent_folder.joinpath(folder_item)\n",
    "    print(current_folder)\n",
    "    \n",
    "    \n",
    "    os.chdir(current_folder)\n",
    "\n",
    "    #if os.path.isdir(current_folder):\n",
    "        #imagery = current_folder.joinpath('img_tile' + folder_item + '.tif')\n",
    "        #imagery = current_folder.joinpath(f'img_tile{folder_item}.tif')\n",
    "    \n",
    "    subfolder_names=os.listdir(current_folder)\n",
    "    for subfolder_item in subfolder_names:\n",
    "        imagery = current_folder.joinpath(subfolder_item)\n",
    "        print(imagery)\n",
    "              \n",
    "        \n",
    "        imgchips = trainchips_single(imagery,zfill_value=zfill_value,stride=stride, winsize=winsize)\n",
    "        \n",
    "        current_folder_str = str(current_folder)\n",
    "        #print(current_folder_str)\n",
    "        print(folder_item)\n",
    "        \n",
    "        #dst_img=organize_files(current_folder_str,folder_item)\n",
    "        dst_img=organize_files(current_folder,folder_item)\n",
    "        \n",
    "        for file in os.listdir(current_folder_str):\n",
    "            if \"_img\" in file:\n",
    "                src_img=current_folder_str+\"/\"+file\n",
    "                shutil.move(src_img, dst_img)\n",
    "\n",
    "            elif \"_lbl\" in file:\n",
    "                #src_lbl=src_imgChips+\"\\\\\"+file\n",
    "                #src_lbl=current_folder+\"/\"+file\n",
    "                src_lbl=current_folder_str+\"/\"+file\n",
    "                shutil.move(src_lbl, dst_lbl)\n",
    "            else:\n",
    "                continue"
   ]
  },
  {
   "cell_type": "code",
   "execution_count": null,
   "metadata": {},
   "outputs": [],
   "source": []
  }
 ],
 "metadata": {
  "kernelspec": {
   "display_name": "gda_ugs",
   "language": "python",
   "name": "gda_ugs"
  },
  "language_info": {
   "codemirror_mode": {
    "name": "ipython",
    "version": 3
   },
   "file_extension": ".py",
   "mimetype": "text/x-python",
   "name": "python",
   "nbconvert_exporter": "python",
   "pygments_lexer": "ipython3",
   "version": "3.10.6"
  },
  "nbTranslate": {
   "displayLangs": [
    "*"
   ],
   "hotkey": "alt-t",
   "langInMainMenu": true,
   "sourceLang": "en",
   "targetLang": "fr",
   "useGoogleTranslate": true
  },
  "toc": {
   "base_numbering": 1,
   "nav_menu": {},
   "number_sections": true,
   "sideBar": true,
   "skip_h1_title": false,
   "title_cell": "Table of Contents",
   "title_sidebar": "Contents",
   "toc_cell": false,
   "toc_position": {},
   "toc_section_display": true,
   "toc_window_display": false
  },
  "varInspector": {
   "cols": {
    "lenName": 16,
    "lenType": 16,
    "lenVar": 40
   },
   "kernels_config": {
    "python": {
     "delete_cmd_postfix": "",
     "delete_cmd_prefix": "del ",
     "library": "var_list.py",
     "varRefreshCmd": "print(var_dic_list())"
    },
    "r": {
     "delete_cmd_postfix": ") ",
     "delete_cmd_prefix": "rm(",
     "library": "var_list.r",
     "varRefreshCmd": "cat(var_dic_list()) "
    }
   },
   "types_to_exclude": [
    "module",
    "function",
    "builtin_function_or_method",
    "instance",
    "_Feature"
   ],
   "window_display": false
  }
 },
 "nbformat": 4,
 "nbformat_minor": 4
}
