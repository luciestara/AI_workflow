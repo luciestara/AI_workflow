{
 "cells": [
  {
   "cell_type": "code",
   "execution_count": null,
   "id": "a26681cd",
   "metadata": {},
   "outputs": [],
   "source": [
    "import os\n",
    "from osgeo import gdal, osr\n",
    "import subprocess\n",
    "from pathlib import Path"
   ]
  },
  {
   "cell_type": "code",
   "execution_count": null,
   "id": "6fe1290f",
   "metadata": {},
   "outputs": [],
   "source": [
    "nodata_value = -32678\n",
    "overlap = .25\n",
    "\n",
    "#input_rasters_folder = Path('/home/lucie/GDA_UGS/ESA_GDA_UGS/Kinshasa/04_prediction/predict_test_scenario_06/img_clip_test_python')\n",
    "#output_rasters_folder = Path('/home/lucie/GDA_UGS/ESA_GDA_UGS/Kinshasa/04_prediction/predict_test_scenario_06/img_clip_test_python_output')\n",
    "\n",
    "input_rasters_folder = Path('/home/lucie/GDA_UGS/ESA_GDA_UGS/Kinshasa/04_prediction/predict_test_scenario_06/img_clip_test_python')\n",
    "output_rasters_folder = Path('/home/lucie/GDA_UGS/ESA_GDA_UGS/Kinshasa/04_prediction/predict_test_scenario_06/img_clip_test_python_output')"
   ]
  },
  {
   "cell_type": "code",
   "execution_count": null,
   "id": "2e760a16",
   "metadata": {},
   "outputs": [],
   "source": [
    "def read_raster_info(raster_filepath):\n",
    "    ds = gdal.Open(str(raster_filepath))\n",
    "\n",
    "    RasterXSize = ds.RasterXSize\n",
    "    RasterYSize = ds.RasterYSize\n",
    "    gt = ds.GetGeoTransform()\n",
    "\n",
    "    xmin = gt[0]\n",
    "    ymax = gt[3]\n",
    "    pixel_width = gt[1]\n",
    "    yres = gt[5]\n",
    "\n",
    "    ds = None\n",
    "    return (xmin, ymax, RasterXSize, RasterYSize, pixel_width)"
   ]
  },
  {
   "cell_type": "code",
   "execution_count": null,
   "id": "63f76200",
   "metadata": {},
   "outputs": [],
   "source": [
    "def inner_buffer(input_rasters_folder,output_rasters_folder):\n",
    "    \n",
    "    raster_list = os.listdir(input_rasters_folder)\n",
    "    output_raster_filepath_list = []\n",
    "\n",
    "    for raster_list_item in raster_list:\n",
    "\n",
    "            input_raster = input_rasters_folder.joinpath(raster_list_item)\n",
    "            output_raster = output_rasters_folder.joinpath(raster_list_item)\n",
    "\n",
    "\n",
    "            if not input_raster.exists():\n",
    "                raise Exception(\"here\")\n",
    "\n",
    "            (xmin, ymax, aoi_width_pixels, aoi_height_pixels, pixel_width) = read_raster_info(input_raster)\n",
    "\n",
    "\n",
    "            x_offset = overlap/2*aoi_width_pixels\n",
    "            y_offset = overlap*aoi_height_pixels/2\n",
    "            tile_width = (1-overlap)*aoi_width_pixels\n",
    "            tile_height =  (1-overlap)*aoi_width_pixels\n",
    "\n",
    "            tile_ulx = xmin + x_offset * pixel_width\n",
    "            tile_uly = ymax - y_offset * pixel_width\n",
    "            tile_lrx = tile_ulx + tile_width * pixel_width\n",
    "            tile_lry = tile_uly - tile_height * pixel_width\n",
    "\n",
    "            args = [\"gdalwarp\",\n",
    "                   \"-t_srs\", \"EPSG:{}\".format(epsg),\n",
    "                   \"-te\", str(tile_ulx), str(tile_uly), str(tile_lrx),\n",
    "                   str(tile_lry),\n",
    "                   \"-r\", 'near',\n",
    "                   \"-co\", \"COMPRESS=DEFLATE\",\n",
    "                   str(input_raster),\n",
    "                   str(output_raster)]\n",
    "            cmd_output = subprocess.run(args, stdout=subprocess.PIPE, stderr=subprocess.PIPE)\n",
    "            print(\"exit code {} --> {}\".format(cmd_output, args))\n",
    "\n",
    "            output_raster_filepath_list.append(output_raster)"
   ]
  },
  {
   "cell_type": "code",
   "execution_count": null,
   "id": "ee7cc2d0",
   "metadata": {},
   "outputs": [],
   "source": [
    "inner_buffer(input_rasters_folder,output_rasters_folder)"
   ]
  },
  {
   "cell_type": "code",
   "execution_count": null,
   "id": "e41df2c2",
   "metadata": {},
   "outputs": [],
   "source": []
  },
  {
   "cell_type": "code",
   "execution_count": 5,
   "id": "cdeef32a",
   "metadata": {},
   "outputs": [
    {
     "name": "stdout",
     "output_type": "stream",
     "text": [
      "exit code CompletedProcess(args=['gdalwarp', '-t_srs', 'EPSG:32733', '-te', '545122.1756', '9510811.5087', '545290.1756', '9510643.5087', '-r', 'near', '-co', 'COMPRESS=DEFLATE', '/home/lucie/GDA_UGS/ESA_GDA_UGS/Kinshasa/04_prediction/predict_test_scenario_06/img_clip_test_python/0001_img.tif', '/home/lucie/GDA_UGS/ESA_GDA_UGS/Kinshasa/04_prediction/predict_test_scenario_06/img_clip_test_python_output/0001_img.tif'], returncode=0, stdout=b'Creating output file that is 336P x 336L.\\nProcessing /home/lucie/GDA_UGS/ESA_GDA_UGS/Kinshasa/04_prediction/predict_test_scenario_06/img_clip_test_python/0001_img.tif [1/1] : 0...10...20...30...40...50...60...70...80...90...100 - done.\\n', stderr=b'Warning 1: -te values have miny >= maxy. This will result in a vertically flipped image.\\n') --> ['gdalwarp', '-t_srs', 'EPSG:32733', '-te', '545122.1756', '9510811.5087', '545290.1756', '9510643.5087', '-r', 'near', '-co', 'COMPRESS=DEFLATE', '/home/lucie/GDA_UGS/ESA_GDA_UGS/Kinshasa/04_prediction/predict_test_scenario_06/img_clip_test_python/0001_img.tif', '/home/lucie/GDA_UGS/ESA_GDA_UGS/Kinshasa/04_prediction/predict_test_scenario_06/img_clip_test_python_output/0001_img.tif']\n",
      "exit code CompletedProcess(args=['gdalwarp', '-t_srs', 'EPSG:32733', '-te', '545290.1756', '9510811.5087', '545458.1756', '9510643.5087', '-r', 'near', '-co', 'COMPRESS=DEFLATE', '/home/lucie/GDA_UGS/ESA_GDA_UGS/Kinshasa/04_prediction/predict_test_scenario_06/img_clip_test_python/0002_img.tif', '/home/lucie/GDA_UGS/ESA_GDA_UGS/Kinshasa/04_prediction/predict_test_scenario_06/img_clip_test_python_output/0002_img.tif'], returncode=0, stdout=b'Creating output file that is 336P x 336L.\\nProcessing /home/lucie/GDA_UGS/ESA_GDA_UGS/Kinshasa/04_prediction/predict_test_scenario_06/img_clip_test_python/0002_img.tif [1/1] : 0...10...20...30...40...50...60...70...80...90...100 - done.\\n', stderr=b'Warning 1: -te values have miny >= maxy. This will result in a vertically flipped image.\\n') --> ['gdalwarp', '-t_srs', 'EPSG:32733', '-te', '545290.1756', '9510811.5087', '545458.1756', '9510643.5087', '-r', 'near', '-co', 'COMPRESS=DEFLATE', '/home/lucie/GDA_UGS/ESA_GDA_UGS/Kinshasa/04_prediction/predict_test_scenario_06/img_clip_test_python/0002_img.tif', '/home/lucie/GDA_UGS/ESA_GDA_UGS/Kinshasa/04_prediction/predict_test_scenario_06/img_clip_test_python_output/0002_img.tif']\n",
      "exit code CompletedProcess(args=['gdalwarp', '-t_srs', 'EPSG:32733', '-te', '545122.1756', '9510643.5087', '545290.1756', '9510475.5087', '-r', 'near', '-co', 'COMPRESS=DEFLATE', '/home/lucie/GDA_UGS/ESA_GDA_UGS/Kinshasa/04_prediction/predict_test_scenario_06/img_clip_test_python/0015_img.tif', '/home/lucie/GDA_UGS/ESA_GDA_UGS/Kinshasa/04_prediction/predict_test_scenario_06/img_clip_test_python_output/0015_img.tif'], returncode=0, stdout=b'Creating output file that is 336P x 336L.\\nProcessing /home/lucie/GDA_UGS/ESA_GDA_UGS/Kinshasa/04_prediction/predict_test_scenario_06/img_clip_test_python/0015_img.tif [1/1] : 0...10...20...30...40...50...60...70...80...90...100 - done.\\n', stderr=b'Warning 1: -te values have miny >= maxy. This will result in a vertically flipped image.\\n') --> ['gdalwarp', '-t_srs', 'EPSG:32733', '-te', '545122.1756', '9510643.5087', '545290.1756', '9510475.5087', '-r', 'near', '-co', 'COMPRESS=DEFLATE', '/home/lucie/GDA_UGS/ESA_GDA_UGS/Kinshasa/04_prediction/predict_test_scenario_06/img_clip_test_python/0015_img.tif', '/home/lucie/GDA_UGS/ESA_GDA_UGS/Kinshasa/04_prediction/predict_test_scenario_06/img_clip_test_python_output/0015_img.tif']\n",
      "exit code CompletedProcess(args=['gdalwarp', '-t_srs', 'EPSG:32733', '-te', '545290.1756', '9510643.5087', '545458.1756', '9510475.5087', '-r', 'near', '-co', 'COMPRESS=DEFLATE', '/home/lucie/GDA_UGS/ESA_GDA_UGS/Kinshasa/04_prediction/predict_test_scenario_06/img_clip_test_python/0016_img.tif', '/home/lucie/GDA_UGS/ESA_GDA_UGS/Kinshasa/04_prediction/predict_test_scenario_06/img_clip_test_python_output/0016_img.tif'], returncode=0, stdout=b'Creating output file that is 336P x 336L.\\nProcessing /home/lucie/GDA_UGS/ESA_GDA_UGS/Kinshasa/04_prediction/predict_test_scenario_06/img_clip_test_python/0016_img.tif [1/1] : 0...10...20...30...40...50...60...70...80...90...100 - done.\\n', stderr=b'Warning 1: -te values have miny >= maxy. This will result in a vertically flipped image.\\n') --> ['gdalwarp', '-t_srs', 'EPSG:32733', '-te', '545290.1756', '9510643.5087', '545458.1756', '9510475.5087', '-r', 'near', '-co', 'COMPRESS=DEFLATE', '/home/lucie/GDA_UGS/ESA_GDA_UGS/Kinshasa/04_prediction/predict_test_scenario_06/img_clip_test_python/0016_img.tif', '/home/lucie/GDA_UGS/ESA_GDA_UGS/Kinshasa/04_prediction/predict_test_scenario_06/img_clip_test_python_output/0016_img.tif']\n"
     ]
    }
   ],
   "source": [
    "raster_list = os.listdir(input_rasters_folder)\n",
    "output_raster_filepath_list = []\n",
    "\n",
    "for raster_list_item in raster_list:\n",
    "\n",
    "        input_raster = input_rasters_folder.joinpath(raster_list_item)\n",
    "        output_raster = output_rasters_folder.joinpath(raster_list_item)\n",
    "\n",
    "        \n",
    "        if not input_raster.exists():\n",
    "            raise Exception(\"here\")\n",
    "            \n",
    "        (xmin, ymax, aoi_width_pixels, aoi_height_pixels, pixel_width) = read_raster_info(input_raster)\n",
    "\n",
    "\n",
    "        x_offset = overlap/2*aoi_width_pixels\n",
    "        y_offset = overlap*aoi_height_pixels/2\n",
    "        tile_width = (1-overlap)*aoi_width_pixels\n",
    "        tile_height =  (1-overlap)*aoi_width_pixels\n",
    "\n",
    "        tile_ulx = xmin + x_offset * pixel_width\n",
    "        tile_uly = ymax - y_offset * pixel_width\n",
    "        tile_lrx = tile_ulx + tile_width * pixel_width\n",
    "        tile_lry = tile_uly - tile_height * pixel_width\n",
    "\n",
    "        args = [\"gdalwarp\",\n",
    "               \"-t_srs\", \"EPSG:{}\".format(epsg),\n",
    "               \"-te\", str(tile_ulx), str(tile_uly), str(tile_lrx),\n",
    "               str(tile_lry),\n",
    "               \"-r\", 'near',\n",
    "               \"-co\", \"COMPRESS=DEFLATE\",\n",
    "               str(input_raster),\n",
    "               str(output_raster)]\n",
    "        cmd_output = subprocess.run(args, stdout=subprocess.PIPE, stderr=subprocess.PIPE)\n",
    "        print(\"exit code {} --> {}\".format(cmd_output, args))\n",
    "\n",
    "        output_raster_filepath_list.append(output_raster)"
   ]
  }
 ],
 "metadata": {
  "kernelspec": {
   "display_name": "gda_ugs",
   "language": "python",
   "name": "gda_ugs"
  },
  "language_info": {
   "codemirror_mode": {
    "name": "ipython",
    "version": 3
   },
   "file_extension": ".py",
   "mimetype": "text/x-python",
   "name": "python",
   "nbconvert_exporter": "python",
   "pygments_lexer": "ipython3",
   "version": "3.10.6"
  }
 },
 "nbformat": 4,
 "nbformat_minor": 5
}
