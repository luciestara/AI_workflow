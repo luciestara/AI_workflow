{
 "cells": [
  {
   "cell_type": "markdown",
   "metadata": {},
   "source": [
    "divide input raster into image chips of defined size (e.g. 224)\n",
    "useful when dividing larger raster into regular shapes"
   ]
  },
  {
   "cell_type": "markdown",
   "metadata": {},
   "source": [
    "### create image chips"
   ]
  },
  {
   "cell_type": "code",
   "execution_count": 1,
   "metadata": {},
   "outputs": [],
   "source": [
    "import numpy as np\n",
    "import os \n",
    "import rasterio as rs \n",
    "from pathlib import Path"
   ]
  },
  {
   "cell_type": "code",
   "execution_count": 16,
   "metadata": {},
   "outputs": [],
   "source": [
    "#@title Parameters\n",
    "#work_dir = Path('/home/lucie/GDA_UGS/ESA_GDA_UGS/Freetown/input_data_Phase3/17')\n",
    "\n",
    "#tile = '23'\n",
    "\n",
    "base_dir = Path('/home/lucie/GDA_UGS/ESA_GDA_UGS/GDA_urban/Phase2')\n",
    "#base_dir = Path('/home/lucie/GDA_UGS/ESA_GDA_UGS/Kinshasa/01_processing_testing')\n",
    "#work_dir = base_dir.joinpath('input_data_Phase3_predict',tile)\n",
    "#work_dir = base_dir.joinpath('labels_test2',tile)\n",
    "work_dir = base_dir.joinpath('model_input')\n",
    "\n",
    "os.chdir(work_dir)\n",
    "\n",
    "# the imagery and labels should be inside the work_dir \n",
    "#imagery = f\"img_tile{tile}.tif\"\n",
    "#label = f\"lbl_tile{tile}.tif\"\n",
    "imagery = 'imagery_clip_3808m_GRNIR.tif'\n",
    "label = 'labels_test.tif'\n",
    "\n",
    "stride=448\n",
    "winsize=448\n",
    "\n",
    "zfill_value = 4 #length of the numbering convention (e.g.0001)"
   ]
  },
  {
   "cell_type": "code",
   "execution_count": 3,
   "metadata": {},
   "outputs": [],
   "source": [
    "def trainchips_single(img, zfill_value, index_start=0, stride=224, winsize=224, variant='img'):\n",
    "    \n",
    "    '''\n",
    "    (stride = winsize/2 >> get 50% overlap)\n",
    "    (depends on model input size, e.g. imagenet uses 224 or 256 pixels)\n",
    "    \n",
    "    variant - when creating image chips for labels, variant='lbl'\n",
    "    '''\n",
    "    \n",
    "    image= rs.open(img)\n",
    "    imgarr=image.read()\n",
    "    print(\"Shape of training data  is: \",imgarr.shape) \n",
    "    invarr= image.read(1)\n",
    "\n",
    "    index=index_start\n",
    "    \n",
    "    for i in np.arange(0,imgarr.shape[1],stride):\n",
    "        for j in np.arange(0,imgarr.shape[2],stride):\n",
    "            img=imgarr[:,i:i+winsize,j:j+winsize]\n",
    "            x,y = (j*image.transform[0]+image.transform[2]),(image.transform[5]+i*image.transform[4])\n",
    "            transform= [image.transform[0],0,x,0,image.transform[4],y]\n",
    "            index+=1\n",
    "            \n",
    "            if variant=='img':\n",
    "                with rs.open(str(index).zfill(zfill_value)+\"_img.tif\",\"w\",driver='GTiff', count=imgarr.shape[0], dtype=imgarr.dtype,\n",
    "                         width=winsize, height=winsize, transform=transform, crs=image.crs) as raschip:\n",
    "                         raschip.write(img)\n",
    "            elif variant=='lbl':\n",
    "                with rs.open(str(index).zfill(zfill_value)+\"_lbl.tif\",\"w\",driver='GTiff', count=imgarr.shape[0], dtype=imgarr.dtype,\n",
    "                         width=winsize, height=winsize, transform=transform, crs=image.crs) as raschip:\n",
    "                         raschip.write(img)\n",
    "                        \n",
    "    print(\"The number of image chips is: \", index-index_start)"
   ]
  },
  {
   "cell_type": "code",
   "execution_count": 17,
   "metadata": {},
   "outputs": [
    {
     "name": "stdout",
     "output_type": "stream",
     "text": [
      "Shape of training data  is:  (1, 7616, 7616)\n",
      "The number of image chips is:  289\n"
     ]
    }
   ],
   "source": [
    "#trainchips_single(imagery,zfill_value=zfill_value,stride=stride, winsize=winsize)\n",
    "trainchips_single(label,zfill_value=zfill_value,stride=stride, winsize=winsize,variant='lbl')"
   ]
  },
  {
   "cell_type": "markdown",
   "metadata": {},
   "source": [
    "### organize files\n",
    "\n",
    "distribute the created image chips into img and lbl folders"
   ]
  },
  {
   "cell_type": "code",
   "execution_count": 18,
   "metadata": {},
   "outputs": [],
   "source": [
    "# create img & lbl directories\n",
    "\n",
    "dst_img = work_dir.joinpath('img')\n",
    "dst_lbl = work_dir.joinpath('lbl')\n",
    "\n",
    "def create_dir(path):\n",
    "    if os.path.exists(path) == False:\n",
    "        os.makedirs(path)\n",
    "        \n",
    "create_dir(dst_img)\n",
    "create_dir(dst_lbl)"
   ]
  },
  {
   "cell_type": "code",
   "execution_count": 19,
   "metadata": {},
   "outputs": [],
   "source": [
    "# split img chips into files by \"lbl\" and \"img\"\n",
    "import shutil\n",
    "\n",
    "for file_item in os.listdir(work_dir):\n",
    "    if \"_img\" in file_item:\n",
    "        src_img=work_dir.joinpath(file_item)\n",
    "        shutil.move(src_img, dst_img)\n",
    "    elif \"_lbl\" in file_item:\n",
    "        src_lbl=work_dir.joinpath(file_item)\n",
    "        shutil.move(src_lbl, dst_lbl)\n",
    "    else:\n",
    "        continue"
   ]
  },
  {
   "cell_type": "markdown",
   "metadata": {},
   "source": [
    "### plots (optional)"
   ]
  },
  {
   "cell_type": "code",
   "execution_count": 65,
   "metadata": {},
   "outputs": [
    {
     "name": "stdout",
     "output_type": "stream",
     "text": [
      "Shape of training data  is:  (1, 4000, 4000)\n",
      "**** number of sample pixels for each class ****\n"
     ]
    },
    {
     "data": {
      "text/plain": [
       "<BarContainer object of 8 artists>"
      ]
     },
     "execution_count": 65,
     "metadata": {},
     "output_type": "execute_result"
    },
    {
     "data": {
      "image/png": "[encoded data removed]",
      "text/plain": [
       "<Figure size 432x288 with 1 Axes>"
      ]
     },
     "metadata": {
      "needs_background": "light"
     },
     "output_type": "display_data"
    }
   ],
   "source": [
    "#img = r\"/home/lucie/GDA_UGS/ESA_GDA_UGS/Freetown/input_data_Phase3/8/lbl_tile8.tif\"\n",
    "img = base_dir.joinpath('input_data_Phase3',tile,f'lbl_tile{tile}.tif')\n",
    "\n",
    "image= rs.open(img)\n",
    "imgarr=image.read()\n",
    "print(\"Shape of training data  is: \",imgarr.shape) \n",
    "invarr= image.read(1)\n",
    "\n",
    "i,j = np.unique(invarr, return_counts= True)\n",
    "print(\"**** number of sample pixels for each class ****\")\n",
    "plt.bar(i, j,alpha=0.7, tick_label=i)"
   ]
  },
  {
   "cell_type": "code",
   "execution_count": 66,
   "metadata": {},
   "outputs": [
    {
     "name": "stdout",
     "output_type": "stream",
     "text": [
      "['24', 1237112, 7479167, 766519, 2350795, 813870, 2716990, 465553, 169994]\n"
     ]
    }
   ],
   "source": [
    "import csv\n",
    "\n",
    "#src: https://www.pythontutorial.net/python-basics/python-write-csv-file/\n",
    "csv_path = base_dir.joinpath('class_distribution.csv')\n",
    "\n",
    "header=['tile','other','low_veg_active','low_veg_inactive','high_veg_shrub','bare_soil','high_veg_trees','water','buildings','roads']\n",
    "  \n",
    "#data = [version,kernel_size,n_epochs_real,batch_size,weights,num_classes,early_stopping.monitor,early_stopping.patience,shape,current_date,train_input_size_orig,num_training_samples,str(config.__dict__),note]\n",
    "data = [tile,*j] #asterisk >> array without brackets (src: https://blog.finxter.com/how-to-print-a-numpy-array-without-brackets-in-python/)\n",
    "print(data)\n",
    "\n",
    "if os.path.exists(csv_path):\n",
    "    with open(csv_path, 'a') as f:\n",
    "        writer = csv.writer(f)\n",
    "        writer.writerow(data)\n",
    "else:\n",
    "    with open(csv_path, 'w', encoding='UTF8') as f:\n",
    "        writer = csv.writer(f)\n",
    "\n",
    "        # write the header\n",
    "        writer.writerow(header)\n",
    "\n",
    "        # write the data\n",
    "        writer.writerow(data)"
   ]
  }
 ],
 "metadata": {
  "kernelspec": {
   "display_name": "gda_ugs",
   "language": "python",
   "name": "gda_ugs"
  },
  "language_info": {
   "codemirror_mode": {
    "name": "ipython",
    "version": 3
   },
   "file_extension": ".py",
   "mimetype": "text/x-python",
   "name": "python",
   "nbconvert_exporter": "python",
   "pygments_lexer": "ipython3",
   "version": "3.10.6"
  },
  "nbTranslate": {
   "displayLangs": [
    "*"
   ],
   "hotkey": "alt-t",
   "langInMainMenu": true,
   "sourceLang": "en",
   "targetLang": "fr",
   "useGoogleTranslate": true
  },
  "toc": {
   "base_numbering": 1,
   "nav_menu": {},
   "number_sections": true,
   "sideBar": true,
   "skip_h1_title": false,
   "title_cell": "Table of Contents",
   "title_sidebar": "Contents",
   "toc_cell": false,
   "toc_position": {},
   "toc_section_display": true,
   "toc_window_display": false
  },
  "varInspector": {
   "cols": {
    "lenName": 16,
    "lenType": 16,
    "lenVar": 40
   },
   "kernels_config": {
    "python": {
     "delete_cmd_postfix": "",
     "delete_cmd_prefix": "del ",
     "library": "var_list.py",
     "varRefreshCmd": "print(var_dic_list())"
    },
    "r": {
     "delete_cmd_postfix": ") ",
     "delete_cmd_prefix": "rm(",
     "library": "var_list.r",
     "varRefreshCmd": "cat(var_dic_list()) "
    }
   },
   "types_to_exclude": [
    "module",
    "function",
    "builtin_function_or_method",
    "instance",
    "_Feature"
   ],
   "window_display": false
  }
 },
 "nbformat": 4,
 "nbformat_minor": 4
}
