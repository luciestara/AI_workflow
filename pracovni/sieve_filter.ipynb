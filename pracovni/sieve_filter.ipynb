{
 "cells": [
  {
   "cell_type": "code",
   "execution_count": null,
   "id": "d6cda63c",
   "metadata": {},
   "outputs": [],
   "source": [
    "threshold = '8' #number of pixels to be removed\n",
    "raster_path\n",
    "raster_output_path"
   ]
  },
  {
   "cell_type": "code",
   "execution_count": null,
   "id": "88098c49",
   "metadata": {},
   "outputs": [],
   "source": [
    "gdal_cmd = [\"gdal_sieve.py\", \"-st\", threshold, \"-8\", \"-nomask\", raster_path, \"-of\", \"GTIFF\", raster_output_path]\n",
    "\n",
    "subprocess.run(gdal_cmd)"
   ]
  }
 ],
 "metadata": {
  "kernelspec": {
   "display_name": "gda_ugs",
   "language": "python",
   "name": "gda_ugs"
  },
  "language_info": {
   "codemirror_mode": {
    "name": "ipython",
    "version": 3
   },
   "file_extension": ".py",
   "mimetype": "text/x-python",
   "name": "python",
   "nbconvert_exporter": "python",
   "pygments_lexer": "ipython3",
   "version": "3.10.6"
  }
 },
 "nbformat": 4,
 "nbformat_minor": 5
}
